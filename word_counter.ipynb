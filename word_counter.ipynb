{
 "cells": [
  {
   "attachments": {},
   "cell_type": "markdown",
   "id": "b2263ed2",
   "metadata": {},
   "source": [
    "Lab xx - [Firstname][Lastname]"
   ]
  },
  {
   "attachments": {},
   "cell_type": "markdown",
   "id": "37f2ec08",
   "metadata": {},
   "source": [
    "Date - [Month] [Day] 2023"
   ]
  },
  {
   "attachments": {},
   "cell_type": "markdown",
   "id": "95d2eb2d",
   "metadata": {},
   "source": [
    "QUESTION 1"
   ]
  },
  {
   "cell_type": "code",
   "execution_count": 3,
   "id": "967a94a4",
   "metadata": {},
   "outputs": [],
   "source": [
    "#Create a string variable named \"First\"\n",
    "First = \" \""
   ]
  },
  {
   "attachments": {},
   "cell_type": "markdown",
   "id": "6ee861a1",
   "metadata": {},
   "source": [
    "QUESTION 2"
   ]
  },
  {
   "cell_type": "code",
   "execution_count": 4,
   "id": "4fc5dbd6",
   "metadata": {},
   "outputs": [],
   "source": [
    "#Create a string variable named \"Last\"\n",
    "Last = \" \""
   ]
  },
  {
   "attachments": {},
   "cell_type": "markdown",
   "id": "f0c8f44f",
   "metadata": {},
   "source": [
    "QUESTION 3"
   ]
  },
  {
   "cell_type": "code",
   "execution_count": 5,
   "id": "547cf02a",
   "metadata": {},
   "outputs": [],
   "source": [
    "#Create a integer variable named \"Year\"\n",
    "Year = \"0\""
   ]
  },
  {
   "attachments": {},
   "cell_type": "markdown",
   "id": "bd5bda61",
   "metadata": {},
   "source": [
    "QUESTION 4"
   ]
  },
  {
   "cell_type": "code",
   "execution_count": 6,
   "id": "7ce41892",
   "metadata": {},
   "outputs": [],
   "source": [
    "#Create an integer variable named \"pythonLevel\"\n",
    "pythonLevel = \"1-10\""
   ]
  },
  {
   "attachments": {},
   "cell_type": "markdown",
   "id": "a5338424",
   "metadata": {},
   "source": [
    "QUESTION 5"
   ]
  },
  {
   "cell_type": "code",
   "execution_count": 7,
   "id": "fe195366",
   "metadata": {},
   "outputs": [],
   "source": [
    "#Create an integer variable named \"rLevel\"\n",
    "rLevel = \" \""
   ]
  },
  {
   "attachments": {},
   "cell_type": "markdown",
   "id": "4d1544d5",
   "metadata": {},
   "source": [
    "QUESTION 6"
   ]
  },
  {
   "cell_type": "code",
   "execution_count": null,
   "id": "106a0a3d",
   "metadata": {},
   "outputs": [],
   "source": [
    "#Create a function named \"studentSurvey\" to set the variables to user input and print out their values.\n",
    "def studentServey():\n",
    "    First = input(\"What is your first name\")\n",
    "    Last = input(\"What is your last name\")\n",
    "    Year = input(\"What year is it\")\n",
    "    pythonlevel = input(\"How strong is your python level\")\n",
    "    "
   ]
  },
  {
   "attachments": {},
   "cell_type": "markdown",
   "id": "65bd6288",
   "metadata": {},
   "source": [
    "QUESTION 7"
   ]
  },
  {
   "cell_type": "code",
   "execution_count": 9,
   "id": "bd49d860",
   "metadata": {},
   "outputs": [],
   "source": [
    "#Create another function of your choice to do something else! \n",
    "#Your function should include atleast two NEW variables."
   ]
  },
  {
   "cell_type": "code",
   "execution_count": null,
   "id": "43ee7854",
   "metadata": {},
   "outputs": [],
   "source": [
    "favTacobellFood = '' \n",
    "def tacoBell():\n",
    "    food = input(\"What is your favorite taco bell item\")\n",
    "    print('you entered:', favTacobellFood)"
   ]
  },
  {
   "cell_type": "code",
   "execution_count": null,
   "id": "6538aa5d",
   "metadata": {},
   "outputs": [],
   "source": []
  },
  {
   "attachments": {},
   "cell_type": "markdown",
   "id": "9e35ccee",
   "metadata": {},
   "source": [
    "QUESTION 8"
   ]
  },
  {
   "cell_type": "code",
   "execution_count": 16,
   "id": "e2e6a54e",
   "metadata": {},
   "outputs": [],
   "source": [
    "#Explain your new function."
   ]
  },
  {
   "attachments": {},
   "cell_type": "markdown",
   "id": "96174891",
   "metadata": {},
   "source": [
    "QUESTION 9"
   ]
  },
  {
   "cell_type": "code",
   "execution_count": 17,
   "id": "0afcd2e7",
   "metadata": {},
   "outputs": [],
   "source": [
    "#Create another function of your choice to do something else! \n",
    "#Your function should include atleast two NEW variables."
   ]
  },
  {
   "attachments": {},
   "cell_type": "markdown",
   "id": "cb9181d1",
   "metadata": {},
   "source": [
    "QUESTION 10"
   ]
  },
  {
   "cell_type": "code",
   "execution_count": 18,
   "id": "6ed992e1",
   "metadata": {},
   "outputs": [],
   "source": [
    "#Explain your new function."
   ]
  },
  {
   "cell_type": "code",
   "execution_count": 2,
   "id": "e411a188",
   "metadata": {},
   "outputs": [
    {
     "name": "stdout",
     "output_type": "stream",
     "text": [
      "The word 'the' appears 2 times in the sentence: The broke college student went to taco bell for the third time this week\n"
     ]
    }
   ],
   "source": [
    "def word_count(sentence, word):\n",
    "    \"\"\"\n",
    "    Returns the number of occurrences of a word in a sentence.\n",
    "    \"\"\"\n",
    "    sentence = sentence.lower()\n",
    "    word = word.lower()\n",
    "    words = sentence.split()\n",
    "    count = 0\n",
    "    for w in words:\n",
    "        if w == word:\n",
    "            count += 1\n",
    "    return count\n",
    "\n",
    "# Example usage\n",
    "sentence = \"The broke college student went to taco bell for the third time this week\"\n",
    "word = \"the\"\n",
    "count = word_count(sentence, word)\n",
    "print(f\"The word '{word}' appears {count} times in the sentence: {sentence}\")"
   ]
  }
 ],
 "metadata": {
  "kernelspec": {
   "display_name": "Python 3.10.7 64-bit",
   "language": "python",
   "name": "python3"
  },
  "language_info": {
   "codemirror_mode": {
    "name": "ipython",
    "version": 3
   },
   "file_extension": ".py",
   "mimetype": "text/x-python",
   "name": "python",
   "nbconvert_exporter": "python",
   "pygments_lexer": "ipython3",
   "version": "3.10.7"
  },
  "vscode": {
   "interpreter": {
    "hash": "f87fde2320060d2900fddac7da54e7374722de106bfdb09feff620760be7bc48"
   }
  }
 },
 "nbformat": 4,
 "nbformat_minor": 5
}
