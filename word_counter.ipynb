{
 "cells": [
  {
   "cell_type": "code",
   "execution_count": 2,
   "id": "e411a188",
   "metadata": {},
   "outputs": [
    {
     "name": "stdout",
     "output_type": "stream",
     "text": [
      "The word 'the' appears 2 times in the sentence: The broke college student went to taco bell for the third time this week\n"
     ]
    }
   ],
   "source": [
    "def word_count(sentence, word):\n",
    "    \"\"\"\n",
    "    Returns the number of occurrences of a word in a sentence.\n",
    "    \"\"\"\n",
    "    sentence = sentence.lower()\n",
    "    word = word.lower()\n",
    "    words = sentence.split()\n",
    "    count = 0\n",
    "    for w in words:\n",
    "        if w == word:\n",
    "            count += 1\n",
    "    return count\n",
    "\n",
    "# Example usage\n",
    "sentence = \"The broke college student went to taco bell for the third time this week\"\n",
    "word = \"the\"\n",
    "count = word_count(sentence, word)\n",
    "print(f\"The word '{word}' appears {count} times in the sentence: {sentence}\")"
   ]
  }
 ],
 "metadata": {
  "kernelspec": {
   "display_name": "Python 3.10.7 64-bit",
   "language": "python",
   "name": "python3"
  },
  "language_info": {
   "codemirror_mode": {
    "name": "ipython",
    "version": 3
   },
   "file_extension": ".py",
   "mimetype": "text/x-python",
   "name": "python",
   "nbconvert_exporter": "python",
   "pygments_lexer": "ipython3",
   "version": "3.10.7"
  },
  "vscode": {
   "interpreter": {
    "hash": "f87fde2320060d2900fddac7da54e7374722de106bfdb09feff620760be7bc48"
   }
  }
 },
 "nbformat": 4,
 "nbformat_minor": 5
}
